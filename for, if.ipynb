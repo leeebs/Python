{
  "nbformat": 4,
  "nbformat_minor": 0,
  "metadata": {
    "colab": {
      "name": "for, .ipynb",
      "provenance": [],
      "authorship_tag": "ABX9TyMtBicRmX/RVBFVlDDG9gER",
      "include_colab_link": true
    },
    "kernelspec": {
      "name": "python3",
      "display_name": "Python 3"
    },
    "language_info": {
      "name": "python"
    }
  },
  "cells": [
    {
      "cell_type": "markdown",
      "metadata": {
        "id": "view-in-github",
        "colab_type": "text"
      },
      "source": [
        "<a href=\"https://colab.research.google.com/github/leeebs/Python/blob/main/for%2C%20if.ipynb\" target=\"_parent\"><img src=\"https://colab.research.google.com/assets/colab-badge.svg\" alt=\"Open In Colab\"/></a>"
      ]
    },
    {
      "cell_type": "code",
      "metadata": {
        "colab": {
          "base_uri": "https://localhost:8080/"
        },
        "id": "rcDqwchSpbsJ",
        "outputId": "6b08d299-340f-485a-8052-2a1c4eb66390"
      },
      "source": [
        "a = [1,2,3,4,5]\n",
        "for i in a:\n",
        "  print(i, i*2)"
      ],
      "execution_count": 1,
      "outputs": [
        {
          "output_type": "stream",
          "text": [
            "1 2\n",
            "2 4\n",
            "3 6\n",
            "4 8\n",
            "5 10\n"
          ],
          "name": "stdout"
        }
      ]
    },
    {
      "cell_type": "markdown",
      "metadata": {
        "id": "sQawXNATpwGg"
      },
      "source": [
        "- **문자열의 아이템 출력하기**\n",
        "  - 문자열의 경우 순회 가능, 리스트와 유사하게 순회 가능"
      ]
    },
    {
      "cell_type": "code",
      "metadata": {
        "colab": {
          "base_uri": "https://localhost:8080/"
        },
        "id": "UZTiZXV4psKZ",
        "outputId": "f7ad72ca-5e8e-4060-8274-de0a0079db2f"
      },
      "source": [
        "a ='hello world'\n",
        "for i in a:\n",
        "  print(i)"
      ],
      "execution_count": 2,
      "outputs": [
        {
          "output_type": "stream",
          "text": [
            "h\n",
            "e\n",
            "l\n",
            "l\n",
            "o\n",
            " \n",
            "w\n",
            "o\n",
            "r\n",
            "l\n",
            "d\n"
          ],
          "name": "stdout"
        }
      ]
    },
    {
      "cell_type": "markdown",
      "metadata": {
        "id": "8Sn7oXeUqwhT"
      },
      "source": [
        "- **리스트 아이템 출력하기**"
      ]
    },
    {
      "cell_type": "code",
      "metadata": {
        "colab": {
          "base_uri": "https://localhost:8080/"
        },
        "id": "glpH26YgqjUD",
        "outputId": "ae21e819-4bd1-4ffa-bc8e-dab2022a308d"
      },
      "source": [
        "a = [1,3,4,6,7,8]\n",
        "for i in a:\n",
        "  if i%2==0:\n",
        "    print(i/2)\n",
        "  else:\n",
        "    print(i+1)"
      ],
      "execution_count": 3,
      "outputs": [
        {
          "output_type": "stream",
          "text": [
            "2\n",
            "4\n",
            "2.0\n",
            "3.0\n",
            "8\n",
            "4.0\n"
          ],
          "name": "stdout"
        }
      ]
    },
    {
      "cell_type": "markdown",
      "metadata": {
        "id": "OxWJBzzKrF78"
      },
      "source": [
        "- **dict의 아이템 출력하기**\n",
        "  - dictionaly의 경우 기본적으로 순회하게 되면 key 값을 참조\n",
        "  - keys() 함수를 이용하여 key 값만 순회 가능\n",
        "  - values() 함수를 이용하여 value 값만 순회 가능\n",
        "  - items() 함수를 이용하여 tuple 형태로 key, value 순회 가능"
      ]
    },
    {
      "cell_type": "code",
      "metadata": {
        "colab": {
          "base_uri": "https://localhost:8080/"
        },
        "id": "qcR-uLIirE1C",
        "outputId": "5a301adf-b24f-49b6-89ec-c583f3ebd79c"
      },
      "source": [
        "a = {'korea': 'seoul', 'japen': 'tokyo', 'canada': 'otawa'}\n",
        "for i in a:\n",
        "  print(i, a[i])\n",
        "\n",
        "for key in a:\n",
        "  print(key)\n",
        "\n",
        "for value in a.values():\n",
        "  print(value)\n",
        "\n",
        "for k, v in a.items():\n",
        "  print(k, v)"
      ],
      "execution_count": 10,
      "outputs": [
        {
          "output_type": "stream",
          "text": [
            "korea seoul\n",
            "japen tokyo\n",
            "canada otawa\n",
            "korea\n",
            "japen\n",
            "canada\n",
            "seoul\n",
            "tokyo\n",
            "otawa\n",
            "korea seoul\n",
            "japen tokyo\n",
            "canada otawa\n"
          ],
          "name": "stdout"
        }
      ]
    },
    {
      "cell_type": "markdown",
      "metadata": {
        "id": "s27WaIfUsr2T"
      },
      "source": [
        "- **for에서 index 사용하기**\n",
        "  - 기본적으로 for에 리스트를 순회하는 경우, 값만 추출함\n",
        "  - 아래와 같은 코드로 인덱스와 값 모두 사용 사능(enumerate 함수 이용)\n",
        "\n",
        "\n",
        "\n",
        "```\n",
        "a = [1,2,3,4,5]\n",
        "for i, val in enumerate(a):\n",
        "  print i, val\n",
        "```\n",
        "\n"
      ]
    },
    {
      "cell_type": "code",
      "metadata": {
        "colab": {
          "base_uri": "https://localhost:8080/"
        },
        "id": "fcZEtYursCFB",
        "outputId": "e54d55a4-5926-4a59-c53b-916a82a972f1"
      },
      "source": [
        "a = [1,2,3,4,5]\n",
        "for index, num in enumerate(a):\n",
        "  if index>3:\n",
        "    print(index, num)"
      ],
      "execution_count": 12,
      "outputs": [
        {
          "output_type": "stream",
          "text": [
            "4 5\n"
          ],
          "name": "stdout"
        }
      ]
    },
    {
      "cell_type": "markdown",
      "metadata": {
        "id": "eHXg66pLtvby"
      },
      "source": [
        "**break**\n",
        "  - for 문의 경우에도 특정 조건일 때, loop 종료 가능"
      ]
    },
    {
      "cell_type": "code",
      "metadata": {
        "colab": {
          "base_uri": "https://localhost:8080/"
        },
        "id": "DaKpvL4LtjBj",
        "outputId": "86cbb9d4-2c57-4354-f504-bcd7e0afeb49"
      },
      "source": [
        "a = [100, 90, 80, 70, 60, 50]\n",
        "for num in a:\n",
        "  if num < 80:\n",
        "    break\n",
        "  print(num)"
      ],
      "execution_count": 16,
      "outputs": [
        {
          "output_type": "stream",
          "text": [
            "100\n",
            "90\n",
            "80\n"
          ],
          "name": "stdout"
        }
      ]
    },
    {
      "cell_type": "markdown",
      "metadata": {
        "id": "eYEC8LQEuRT-"
      },
      "source": [
        "**continue**\n",
        "  - 해당 아이템을 건너 뛰고 싶을 때 사용"
      ]
    },
    {
      "cell_type": "code",
      "metadata": {
        "colab": {
          "base_uri": "https://localhost:8080/"
        },
        "id": "xAUh5mS6uL55",
        "outputId": "c71b8988-7375-4af2-b61f-1736e2e90f8f"
      },
      "source": [
        "a = [100, 90, 80, 70, 60, 50]\n",
        "for num in a:\n",
        "  if num >= 60 and num <=70:\n",
        "    continue\n",
        "  print(num)"
      ],
      "execution_count": 18,
      "outputs": [
        {
          "output_type": "stream",
          "text": [
            "100\n",
            "90\n",
            "80\n",
            "50\n"
          ],
          "name": "stdout"
        }
      ]
    },
    {
      "cell_type": "markdown",
      "metadata": {
        "id": "zEIfTncbumuH"
      },
      "source": [
        "**loop 중첩**\n",
        "  - 반복문의 경우에도 중첩하여 사용 가능\n",
        "  - 중첩이라는 것은 반복문 블록의 코드 안에 또 반복문의 코드가 작성되는 것을 의미\n",
        "  - 이런 경우, 내부 루프는 외부 루프가 수행되는만큼 반복수행 됨\n",
        "  - 또한 중첩의 경우 무한히 가능"
      ]
    },
    {
      "cell_type": "code",
      "metadata": {
        "colab": {
          "base_uri": "https://localhost:8080/"
        },
        "id": "_6DoEITiuiGb",
        "outputId": "944f77a1-f5ea-4f24-969e-b1d85fb64b72"
      },
      "source": [
        "a = [1,2,4]\n",
        "for i in a:\n",
        "  for j in a:\n",
        "    print(i*j)"
      ],
      "execution_count": 20,
      "outputs": [
        {
          "output_type": "stream",
          "text": [
            "1\n",
            "2\n",
            "4\n",
            "2\n",
            "4\n",
            "8\n",
            "4\n",
            "8\n",
            "16\n"
          ],
          "name": "stdout"
        }
      ]
    },
    {
      "cell_type": "code",
      "metadata": {
        "colab": {
          "base_uri": "https://localhost:8080/"
        },
        "id": "Dp84Q0LBvMNj",
        "outputId": "1ae092de-90f3-497f-be14-be5a32e943c5"
      },
      "source": [
        "for i in range(1,10):\n",
        "  for j in range(1,10):\n",
        "    print(i*j)"
      ],
      "execution_count": 24,
      "outputs": [
        {
          "output_type": "stream",
          "text": [
            "1\n",
            "2\n",
            "3\n",
            "4\n",
            "5\n",
            "6\n",
            "7\n",
            "8\n",
            "9\n",
            "2\n",
            "4\n",
            "6\n",
            "8\n",
            "10\n",
            "12\n",
            "14\n",
            "16\n",
            "18\n",
            "3\n",
            "6\n",
            "9\n",
            "12\n",
            "15\n",
            "18\n",
            "21\n",
            "24\n",
            "27\n",
            "4\n",
            "8\n",
            "12\n",
            "16\n",
            "20\n",
            "24\n",
            "28\n",
            "32\n",
            "36\n",
            "5\n",
            "10\n",
            "15\n",
            "20\n",
            "25\n",
            "30\n",
            "35\n",
            "40\n",
            "45\n",
            "6\n",
            "12\n",
            "18\n",
            "24\n",
            "30\n",
            "36\n",
            "42\n",
            "48\n",
            "54\n",
            "7\n",
            "14\n",
            "21\n",
            "28\n",
            "35\n",
            "42\n",
            "49\n",
            "56\n",
            "63\n",
            "8\n",
            "16\n",
            "24\n",
            "32\n",
            "40\n",
            "48\n",
            "56\n",
            "64\n",
            "72\n",
            "9\n",
            "18\n",
            "27\n",
            "36\n",
            "45\n",
            "54\n",
            "63\n",
            "72\n",
            "81\n"
          ],
          "name": "stdout"
        }
      ]
    },
    {
      "cell_type": "markdown",
      "metadata": {
        "id": "vNkhDpJUyfQ_"
      },
      "source": [
        "**collection의 길이**\n",
        "  * len() 내장함수로 계산 가능\n",
        "  * 내장함수란 파이썬 내부에 구현되어 있어서, import 하지 않고도 사용 가능한 함수\n",
        "  * abs, len, type, range 등이 있음"
      ]
    },
    {
      "cell_type": "code",
      "metadata": {
        "colab": {
          "base_uri": "https://localhost:8080/"
        },
        "id": "U2upIwLTvrMC",
        "outputId": "0657a769-e468-4540-fc95-f148bf5607bb"
      },
      "source": [
        "a =[1,2,3,4,5]\n",
        "len(a)\n",
        "len('hello world')"
      ],
      "execution_count": 27,
      "outputs": [
        {
          "output_type": "execute_result",
          "data": {
            "text/plain": [
              "11"
            ]
          },
          "metadata": {
            "tags": []
          },
          "execution_count": 27
        }
      ]
    },
    {
      "cell_type": "code",
      "metadata": {
        "colab": {
          "base_uri": "https://localhost:8080/"
        },
        "id": "tv9N33GOzBsC",
        "outputId": "6bfced92-a493-4c94-a5e0-17448d7df344"
      },
      "source": [
        "a = list(range(1, 20))\n",
        "print(a)"
      ],
      "execution_count": 29,
      "outputs": [
        {
          "output_type": "stream",
          "text": [
            "[1, 2, 3, 4, 5, 6, 7, 8, 9, 10, 11, 12, 13, 14, 15, 16, 17, 18, 19]\n"
          ],
          "name": "stdout"
        }
      ]
    },
    {
      "cell_type": "code",
      "metadata": {
        "colab": {
          "base_uri": "https://localhost:8080/"
        },
        "id": "2dbiXf_XzcRq",
        "outputId": "4eb97267-263d-4a99-e362-27a16530e155"
      },
      "source": [
        "list(range(5, 101, 5))"
      ],
      "execution_count": 33,
      "outputs": [
        {
          "output_type": "execute_result",
          "data": {
            "text/plain": [
              "[5,\n",
              " 10,\n",
              " 15,\n",
              " 20,\n",
              " 25,\n",
              " 30,\n",
              " 35,\n",
              " 40,\n",
              " 45,\n",
              " 50,\n",
              " 55,\n",
              " 60,\n",
              " 65,\n",
              " 70,\n",
              " 75,\n",
              " 80,\n",
              " 85,\n",
              " 90,\n",
              " 95,\n",
              " 100]"
            ]
          },
          "metadata": {
            "tags": []
          },
          "execution_count": 33
        }
      ]
    },
    {
      "cell_type": "markdown",
      "metadata": {
        "id": "HeSbiK66zrGK"
      },
      "source": [
        "**if&for 연습문제**\n",
        "  1. 구구단을 2-9단까지 출력하시오\n",
        "  2. 1-100까지 정수 중 2의 배수 또는 11의 배수를 모두 출력하시오\n",
        "  3. a = [22,1,3,4,7,98,21,55,87,99,19,20,45]에서 최대값과 최소값을 찾으시오\n",
        "  4. a = [22,1,3,4,7,98,21,55,87,99,19,20,45]에서 평균을 구하세요"
      ]
    },
    {
      "cell_type": "code",
      "metadata": {
        "colab": {
          "base_uri": "https://localhost:8080/"
        },
        "id": "mN6zyu-6zhta",
        "outputId": "053f9005-1eec-45d0-ecbe-9a81ad998602"
      },
      "source": [
        "x = 2\n",
        "while x <= 9:\n",
        "  y = 1\n",
        "  while y <= 9:\n",
        "    print(x*y)\n",
        "    y += 1\n",
        "  x += 1"
      ],
      "execution_count": 34,
      "outputs": [
        {
          "output_type": "stream",
          "text": [
            "2\n",
            "4\n",
            "6\n",
            "8\n",
            "10\n",
            "12\n",
            "14\n",
            "16\n",
            "18\n",
            "3\n",
            "6\n",
            "9\n",
            "12\n",
            "15\n",
            "18\n",
            "21\n",
            "24\n",
            "27\n",
            "4\n",
            "8\n",
            "12\n",
            "16\n",
            "20\n",
            "24\n",
            "28\n",
            "32\n",
            "36\n",
            "5\n",
            "10\n",
            "15\n",
            "20\n",
            "25\n",
            "30\n",
            "35\n",
            "40\n",
            "45\n",
            "6\n",
            "12\n",
            "18\n",
            "24\n",
            "30\n",
            "36\n",
            "42\n",
            "48\n",
            "54\n",
            "7\n",
            "14\n",
            "21\n",
            "28\n",
            "35\n",
            "42\n",
            "49\n",
            "56\n",
            "63\n",
            "8\n",
            "16\n",
            "24\n",
            "32\n",
            "40\n",
            "48\n",
            "56\n",
            "64\n",
            "72\n",
            "9\n",
            "18\n",
            "27\n",
            "36\n",
            "45\n",
            "54\n",
            "63\n",
            "72\n",
            "81\n"
          ],
          "name": "stdout"
        }
      ]
    },
    {
      "cell_type": "code",
      "metadata": {
        "colab": {
          "base_uri": "https://localhost:8080/"
        },
        "id": "mFfdOuWU02UT",
        "outputId": "02d34b38-00f9-4972-fbce-9019f682c41c"
      },
      "source": [
        "for i in range(1, 101):\n",
        "  if i%2 == 0 or i%11 == 0:\n",
        "    print(i)"
      ],
      "execution_count": 35,
      "outputs": [
        {
          "output_type": "stream",
          "text": [
            "2\n",
            "4\n",
            "6\n",
            "8\n",
            "10\n",
            "11\n",
            "12\n",
            "14\n",
            "16\n",
            "18\n",
            "20\n",
            "22\n",
            "24\n",
            "26\n",
            "28\n",
            "30\n",
            "32\n",
            "33\n",
            "34\n",
            "36\n",
            "38\n",
            "40\n",
            "42\n",
            "44\n",
            "46\n",
            "48\n",
            "50\n",
            "52\n",
            "54\n",
            "55\n",
            "56\n",
            "58\n",
            "60\n",
            "62\n",
            "64\n",
            "66\n",
            "68\n",
            "70\n",
            "72\n",
            "74\n",
            "76\n",
            "77\n",
            "78\n",
            "80\n",
            "82\n",
            "84\n",
            "86\n",
            "88\n",
            "90\n",
            "92\n",
            "94\n",
            "96\n",
            "98\n",
            "99\n",
            "100\n"
          ],
          "name": "stdout"
        }
      ]
    },
    {
      "cell_type": "code",
      "metadata": {
        "colab": {
          "base_uri": "https://localhost:8080/"
        },
        "id": "c4Kl85j31Gci",
        "outputId": "bbe03cb4-ff70-4ac4-9e5a-672467f17d40"
      },
      "source": [
        "# sort 함수(정렬 사용시)\n",
        "a = [22,1,3,4,7,98,21,55,87,99,19,20,45]\n",
        "a.sort()\n",
        "a[0], a[-1]"
      ],
      "execution_count": 36,
      "outputs": [
        {
          "output_type": "execute_result",
          "data": {
            "text/plain": [
              "(1, 99)"
            ]
          },
          "metadata": {
            "tags": []
          },
          "execution_count": 36
        }
      ]
    },
    {
      "cell_type": "code",
      "metadata": {
        "colab": {
          "base_uri": "https://localhost:8080/"
        },
        "id": "gbtQiWVt1UpB",
        "outputId": "dec35a9d-79d0-4637-bb42-5ec2d65e9e7f"
      },
      "source": [
        "# 처음 만나는 값을 최소 값으로 가정\n",
        "# 그리고 그 후 숫자를 만날때마다 현재 최소값보다 그 숫자가 작으면 최소값을 그 숫자로 업데이트\n",
        "\n",
        "_min = a[0]\n",
        "for x in a:\n",
        "  if x<_min:\n",
        "    _min=x\n",
        "print(_min)"
      ],
      "execution_count": 37,
      "outputs": [
        {
          "output_type": "stream",
          "text": [
            "1\n"
          ],
          "name": "stdout"
        }
      ]
    },
    {
      "cell_type": "code",
      "metadata": {
        "colab": {
          "base_uri": "https://localhost:8080/"
        },
        "id": "tNgg1z-I1_nc",
        "outputId": "102b18ce-47d4-4da8-8ec6-38d78a4fdc96"
      },
      "source": [
        "_max = a[0]\n",
        "for x in a:\n",
        "  if x>_max:\n",
        "    _max=x\n",
        "print(_max)"
      ],
      "execution_count": 38,
      "outputs": [
        {
          "output_type": "stream",
          "text": [
            "99\n"
          ],
          "name": "stdout"
        }
      ]
    },
    {
      "cell_type": "code",
      "metadata": {
        "colab": {
          "base_uri": "https://localhost:8080/"
        },
        "id": "oGb2jZnh2Ixi",
        "outputId": "73b8f9b9-56d0-49ba-e0b7-ce06bc7083ec"
      },
      "source": [
        "_min = a[0]\n",
        "_max = a[0]\n",
        "for x in a:\n",
        "  if x<_min:\n",
        "    _min=x\n",
        "  if x>_max:\n",
        "    _max=x\n",
        "print(_min, _max)"
      ],
      "execution_count": 39,
      "outputs": [
        {
          "output_type": "stream",
          "text": [
            "1 99\n"
          ],
          "name": "stdout"
        }
      ]
    },
    {
      "cell_type": "code",
      "metadata": {
        "id": "uki4u-GC2UGT"
      },
      "source": [
        "a = [22,1,3,4,7,98,21,55,87,99,19,20,45]"
      ],
      "execution_count": 40,
      "outputs": []
    },
    {
      "cell_type": "code",
      "metadata": {
        "colab": {
          "base_uri": "https://localhost:8080/"
        },
        "id": "EBIXS20l2hyi",
        "outputId": "a1b13092-8bfa-4b5e-9b1d-e4e7a400de6a"
      },
      "source": [
        "#while\n",
        "sum=0\n",
        "i=0\n",
        "while i<len(a):\n",
        "  sum += a[i]\n",
        "  i+=1\n",
        "\n",
        "print(sum/len(a))"
      ],
      "execution_count": 41,
      "outputs": [
        {
          "output_type": "stream",
          "text": [
            "37.0\n"
          ],
          "name": "stdout"
        }
      ]
    },
    {
      "cell_type": "code",
      "metadata": {
        "colab": {
          "base_uri": "https://localhost:8080/"
        },
        "id": "CLaYSd8A2xqS",
        "outputId": "d0848ef8-d96e-4aaa-d644-d1bf2b2ae50a"
      },
      "source": [
        "#for\n",
        "sum = 0\n",
        "for i in a:\n",
        "  sum+= i\n",
        "\n",
        "print(sum/len(a))"
      ],
      "execution_count": 45,
      "outputs": [
        {
          "output_type": "stream",
          "text": [
            "37.0\n"
          ],
          "name": "stdout"
        }
      ]
    }
  ]
}